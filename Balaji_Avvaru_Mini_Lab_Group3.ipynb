{
 "cells": [
  {
   "cell_type": "markdown",
   "metadata": {},
   "source": [
    "# **Lab One: Visualization and Data Preprocessing**"
   ]
  },
  {
   "cell_type": "markdown",
   "metadata": {},
   "source": [
    "*Contributors:* Balaji Avvaru, Joshua Eysenbach, Vijay Kaniti, Daniel Turner\n",
    "\n",
    "Nbviewer link: https://nbviewer.jupyter.org/github/iamsrikanthkv/CardioVascularDisease_Prediction/blob/master/Lab_1_DataViz_Group3-Final.ipynb"
   ]
  },
  {
   "cell_type": "markdown",
   "metadata": {},
   "source": [
    "## **Business Understanding**"
   ]
  },
  {
   "cell_type": "markdown",
   "metadata": {},
   "source": [
    "This analysis uses a dataset categorizing patients with a cardiovascular disease (CVD) diagnosis.  It contains a collection of 11 attributes that were gathered with the intention of trying to identify potential characteristics of individuals that correlate with heart disease. The primary goal of this analysis is to explore the data through statistical summaries and visualization to elucidate any trends that will be useful for building a prediction model for classifying a patient as having a CVD diagnosis or not.\n",
    "\n",
    "This dataset was procured from Kaggle<sup>(0-1) </sup> but it is unclear from where the original data originates. However, the features are described well enough to understand what each of them represents. In a practical \"real-world\" setting, verifying the source of this data and scrutinizing the methods of its collection would be a vital part of the analysis, but for the purposes of our academic interests in data visualization and eventual prediction modelling, this level of validity is inconsequential as long as the data has realistic characteristics and application.\n",
    "\n",
    "Cardiovascular disease generally refers to conditions that involve narrowed or blocked blood vessels (Atherosclerosis) that can lead to a heart attack, chest pain (angina) or stroke. Diseases under the heart disease umbrella include blood vessel diseases, such as coronary artery disease, heart rhythm problems (arrhythmias), congenital heart defects, and rheumatic heart disease. Four out of five CVD deaths are due to heart attacks and strokes.<sup>(0-2) </sup>\n",
    "\n",
    "#### Cardiovascular Disease Prediction\n",
    "\n",
    "The goal of any prediction algorithm using this data is to determine if any of these attributes or combination of them can predict a cardiovascular disease diagnosis. These predicition models could provide valuable insight into what conditions or behaviors might be correlated with heart disease and could be used in aiding diagnosis or helping to mitigate the disease through understanding its possible causes. Many of the attributes collected are based on long standing suppositions of conditions or behaviors associated with heart disease like high cholesterol, smoking, or alcohol consumption. This analysis and subsequent prediction modeling can hopefully identify if any of these are more associated with (or even perhaps falsely attributed to) a diagnosis. \n",
    "\n",
    "As a classification problem, logistic regression would be a good model to start with to predict a positive or negative CVD diagnosis. The effectiveness of a prediction model for classifying CVD patients could be measured in several ways depending on the implementation. For example, the intent of the model could be to identify individuals likely to be diagnosed with cardiovascular disease so they can be given an objective reason to make behavioral changes to reduce their chances of a future diagnosis. In this case, maximizing sensitivity at the expense of accuracy and specificity might be the best option because there would be few downsides to making false positive classifications. AUC (Area under the curve; Receiver Operating Characteristic) could also be an effective metric under this principle as it measures the ability of the model to predict a higher score for positive examples. On the other hand, if something like high cholesterol was found to be a highly significant predictor and there was a decision to be made about prescribing a drug that could have side effects for the patient, accuracy and a more balanced sensitivity and specificity might be more important as false positives become more of a concern. For reasons like these, a few different prediction models might be warranted for different specific uses. \n",
    "\n",
    "#### Systolic Blood Pressure Prediction\n",
    "\n",
    "Blood pressure is another attribute included in this data that could be a target variable for prediction. Whether or not blood pressure is correlated to CVD, high blood pressure has many negative health implications of its own. If we build a model to predict systolic blood pressure, we could examine how strongly diastolic pressure correlates to it, and add as many of the other variables as are relevant to predicting systolic pressure. As a continuous measurement, we would predict Systolic blood pressure using multiple linear regression. Minimizing root mean square error in combination with cross validation is a good metric for evaluating the effectiveness of a MLR prediction model for systolic blood pressure.\n",
    "\n",
    "For validation of models for both predicting CVD and blood pressure, we will use 10-fold cross validation."
   ]
  },
  {
   "cell_type": "markdown",
   "metadata": {},
   "source": [
    "## **Data Understanding**"
   ]
  },
  {
   "cell_type": "markdown",
   "metadata": {},
   "source": [
    "### Data Meaning and Types"
   ]
  },
  {
   "cell_type": "markdown",
   "metadata": {},
   "source": [
    "The features included are described on the Kaggle page<sup>(0-1) </sup> for this data as being separable into three categories:\n",
    "* *Objective*: Factual initial information about the patient;\n",
    "* *Examination*: Information resulting from medical examination;\n",
    "* *Subjective*: Information given by the patient.\n",
    "\n",
    "Distinctions between the different attributes are paramount to interpreting and qualifying results of analysis and modeling of this data as they can represent varying degrees of validity and potential biases, so it is important that we keep this in mind as we explore the data and eventually make any recommendations. For example, we would likely assume blood pressure measurements will be reasonably accurate as they were taken by a trained health professional, but should be wary of a patient's proclivity to be honest when asked whether they are a regular smoker or drinker."
   ]
  },
  {
   "cell_type": "markdown",
   "metadata": {},
   "source": [
    "The dataset acquired from Kaggle is stored for our use on Github<sup>(1-1) </sup>. The code for importing the data is combined with the inital loading of various analysis and visualization packages below. "
   ]
  },
  {
   "cell_type": "code",
   "execution_count": 4,
   "metadata": {},
   "outputs": [],
   "source": [
    "import pandas as pd\n",
    "import numpy as np\n",
    "from pandas_profiling import ProfileReport\n",
    "import seaborn as sns\n",
    "import matplotlib.pyplot as plt\n",
    "from IPython.display import Image\n",
    "from scipy import stats\n",
    "from statsmodels.stats.outliers_influence import variance_inflation_factor\n",
    "%matplotlib inline\n",
    "import warnings\n",
    "warnings.filterwarnings('ignore')"
   ]
  },
  {
   "cell_type": "code",
   "execution_count": 5,
   "metadata": {
    "scrolled": false
   },
   "outputs": [],
   "source": [
    "df = pd.read_csv(\"https://raw.githubusercontent.com/jteysen/MSDS-7331-Machine-Learning-I/master/Data/cardio_train.csv\")"
   ]
  },
  {
   "cell_type": "markdown",
   "metadata": {},
   "source": [
    "The attributes included in the dataset are outlined below per their descriptions on the Kaggle page."
   ]
  },
  {
   "cell_type": "markdown",
   "metadata": {},
   "source": [
    "|Attribute Name | Category | Description |\n",
    "|---------------|----------|-------------|\n",
    "|age | Objective | Age of the Patient (days) |\n",
    "|height | Objective | Height of the Patient (cm) |\n",
    "|weight | Objective | Weight of the Patient (kg) |\n",
    "|gender | Objective | Gender of the Patient (1:M, 2:F)|\n",
    "|ap_hi | Examination | Systolic blood pressure (mmHg)|\n",
    "|ap_lo | Examination | Diastolic blood pressure (mmHg)|\n",
    "|cholesterol | Examination | Cholesterol level -  1: normal, 2: above normal, 3: well above normal |\n",
    "|gluc | Examination | Glucose level - 1: normal, 2: above normal, 3: well above normal |\n",
    "|smoke | Subjective | Patient does (1) or does not (0) describe themselves as a smoker |\n",
    "|alco | Subjective | Patient does (1) or does not (0) regularly drink alcohol |\n",
    "|active | Subjective | Patient does (1) or does not (0) regularly exercise |\n",
    "|cardio | Target Variable | Diagnosis of presence (1) or absence (0) of cardiovascular disease |"
   ]
  },
  {
   "cell_type": "markdown",
   "metadata": {},
   "source": [
    "Most of these need little explanation, but we researched the attributes in the *Examination* category for a more in-depth understanding of their measurement and their known implications on cardiovascular disease and general heart health.\n",
    "\n",
    "Blood Pressure is typically measured using an inflatable cuff with a gauge that meaures mmHg (pressure exerted by 1 mm high column of mercury). Measurements are taken that represent the maximum pressure exerted on arteries when the heart beats (systolic - higher) and between heart beats (diastolic - lower). The condition where either or both of these measurements is high called Hypertension, and this condition has been linked to cardiovascular disease. The American Heart Association outlines blood pressure levels by severity."
   ]
  },
  {
   "cell_type": "code",
   "execution_count": 6,
   "metadata": {},
   "outputs": [],
   "source": [
    "# Continuous features\n",
    "cont_features = ['age', 'height', 'weight', 'ap_hi', 'ap_lo']\n",
    "# Categorical features\n",
    "cat_features = ['gender', 'cholesterol', 'gluc', 'smoke', 'alco', 'active']"
   ]
  },
  {
   "cell_type": "markdown",
   "metadata": {},
   "source": [
    "Since the ID field is simply the ordered numbering of all of the observations, it is not useful to us so we will drop it from our data frame. This will also help to reduce the size of any pairwise comparisons without additional restricting."
   ]
  },
  {
   "cell_type": "code",
   "execution_count": 7,
   "metadata": {},
   "outputs": [],
   "source": [
    "df.drop(['id'], inplace=True, axis=1)"
   ]
  },
  {
   "cell_type": "code",
   "execution_count": 8,
   "metadata": {},
   "outputs": [],
   "source": [
    "duplicate_observations = df[df.duplicated(keep='first')]"
   ]
  },
  {
   "cell_type": "markdown",
   "metadata": {},
   "source": [
    "Having 24 individuals with the same values for this relatively small list of attributes is entirely possible in a dataset of 70,000. All of the duplicates appear very near the average or medians for the different attributes, making the likelihood of the duplicates high and their legitimacy believable. For that reason, we will leave them."
   ]
  },
  {
   "cell_type": "code",
   "execution_count": 9,
   "metadata": {},
   "outputs": [],
   "source": [
    "#convert the age to number of years instead of number of days \n",
    "df['age_years'] = (df['age'] / 365).round().astype('int')\n",
    "# drop the feature 'age'\n",
    "df.drop('age', axis=1, inplace=True)\n",
    "# New Continuous features\n",
    "cont_features = ['age_years', 'height', 'weight', 'ap_hi', 'ap_lo']"
   ]
  },
  {
   "cell_type": "code",
   "execution_count": 10,
   "metadata": {},
   "outputs": [
    {
     "name": "stdout",
     "output_type": "stream",
     "text": [
      "              ap_lo         ap_hi\n",
      "count  68698.000000  68698.000000\n",
      "mean      81.305395    126.572753\n",
      "std        9.439463     16.595382\n",
      "min       30.000000     60.000000\n",
      "25%       80.000000    120.000000\n",
      "50%       80.000000    120.000000\n",
      "75%       90.000000    140.000000\n",
      "max      135.000000    215.000000\n"
     ]
    }
   ],
   "source": [
    "df = df[(df[\"ap_lo\"] < 140) & (df[\"ap_lo\"] > 20)]\n",
    "df = df[(df[\"ap_hi\"] < 220) & (df[\"ap_hi\"] > 40)]\n",
    "\n",
    "print(df[['ap_lo', 'ap_hi']].describe())"
   ]
  },
  {
   "cell_type": "code",
   "execution_count": 11,
   "metadata": {},
   "outputs": [
    {
     "data": {
      "text/plain": [
       "0"
      ]
     },
     "execution_count": 11,
     "metadata": {},
     "output_type": "execute_result"
    }
   ],
   "source": [
    "# swap values for records where ap_lo > ap_hi\n",
    "temp = df['ap_lo'] > df['ap_hi']\n",
    "df.loc[temp, ['ap_lo','ap_hi']] = df.loc[temp, ['ap_hi','ap_lo']].values\n",
    "# Check that swap worked\n",
    "len(df.query('ap_lo > ap_hi'))"
   ]
  },
  {
   "cell_type": "code",
   "execution_count": 12,
   "metadata": {},
   "outputs": [
    {
     "name": "stdout",
     "output_type": "stream",
     "text": [
      "             height\n",
      "count  68615.000000\n",
      "mean     164.433520\n",
      "std        7.856655\n",
      "min      122.000000\n",
      "25%      159.000000\n",
      "50%      165.000000\n",
      "75%      170.000000\n",
      "max      207.000000\n"
     ]
    }
   ],
   "source": [
    "df = df[(df[\"height\"] < 250)]\n",
    "df = df[(df[\"height\"] > 120)]\n",
    "print(df[['height']].describe())"
   ]
  },
  {
   "cell_type": "code",
   "execution_count": 13,
   "metadata": {},
   "outputs": [
    {
     "name": "stdout",
     "output_type": "stream",
     "text": [
      "             weight\n",
      "count  68525.000000\n",
      "mean      74.151076\n",
      "std       14.240436\n",
      "min       41.000000\n",
      "25%       65.000000\n",
      "50%       72.000000\n",
      "75%       82.000000\n",
      "max      200.000000\n"
     ]
    }
   ],
   "source": [
    "df = df[(df[\"weight\"] > 40)]\n",
    "print(df[['weight']].describe())"
   ]
  },
  {
   "cell_type": "code",
   "execution_count": 14,
   "metadata": {},
   "outputs": [
    {
     "name": "stdout",
     "output_type": "stream",
     "text": [
      "             weight\n",
      "count  68523.000000\n",
      "mean      74.147402\n",
      "std       14.224404\n",
      "min       41.000000\n",
      "25%       65.000000\n",
      "50%       72.000000\n",
      "75%       82.000000\n",
      "max      183.000000\n"
     ]
    }
   ],
   "source": [
    "df = df[(df[\"weight\"] < 200)]\n",
    "print(df[['weight']].describe())"
   ]
  },
  {
   "cell_type": "code",
   "execution_count": 15,
   "metadata": {},
   "outputs": [
    {
     "data": {
      "text/plain": [
       "count     68523\n",
       "unique        4\n",
       "top       50-60\n",
       "freq      34771\n",
       "Name: age_in_groups, dtype: object"
      ]
     },
     "execution_count": 15,
     "metadata": {},
     "output_type": "execute_result"
    }
   ],
   "source": [
    "#create a variable that bins age\n",
    "df2 = df.copy()\n",
    "df2['age_in_groups'] = pd.cut(df.age_years,[0,40,50,60,80],4,labels=['<40','40-50','50-60','>60'])\n",
    "df2['age_in_groups'].describe()"
   ]
  },
  {
   "cell_type": "code",
   "execution_count": 16,
   "metadata": {},
   "outputs": [],
   "source": [
    "# Creating a displaying BMI as an example of a new variable. BMI = weight in kgs / height in m^2\n",
    "df2['BMI'] = df['weight'] / (df['height'] / 100).round()"
   ]
  },
  {
   "cell_type": "code",
   "execution_count": 17,
   "metadata": {},
   "outputs": [
    {
     "data": {
      "text/html": [
       "<div>\n",
       "<style scoped>\n",
       "    .dataframe tbody tr th:only-of-type {\n",
       "        vertical-align: middle;\n",
       "    }\n",
       "\n",
       "    .dataframe tbody tr th {\n",
       "        vertical-align: top;\n",
       "    }\n",
       "\n",
       "    .dataframe thead th {\n",
       "        text-align: right;\n",
       "    }\n",
       "</style>\n",
       "<table border=\"1\" class=\"dataframe\">\n",
       "  <thead>\n",
       "    <tr style=\"text-align: right;\">\n",
       "      <th></th>\n",
       "      <th>gender</th>\n",
       "      <th>height</th>\n",
       "      <th>weight</th>\n",
       "      <th>ap_hi</th>\n",
       "      <th>ap_lo</th>\n",
       "      <th>cholesterol</th>\n",
       "      <th>gluc</th>\n",
       "      <th>smoke</th>\n",
       "      <th>alco</th>\n",
       "      <th>active</th>\n",
       "      <th>cardio</th>\n",
       "      <th>age_years</th>\n",
       "      <th>age_in_groups</th>\n",
       "      <th>BMI</th>\n",
       "    </tr>\n",
       "  </thead>\n",
       "  <tbody>\n",
       "    <tr>\n",
       "      <th>0</th>\n",
       "      <td>2</td>\n",
       "      <td>168</td>\n",
       "      <td>62.0</td>\n",
       "      <td>110</td>\n",
       "      <td>80</td>\n",
       "      <td>1</td>\n",
       "      <td>1</td>\n",
       "      <td>0</td>\n",
       "      <td>0</td>\n",
       "      <td>1</td>\n",
       "      <td>0</td>\n",
       "      <td>50</td>\n",
       "      <td>40-50</td>\n",
       "      <td>31.0</td>\n",
       "    </tr>\n",
       "    <tr>\n",
       "      <th>1</th>\n",
       "      <td>1</td>\n",
       "      <td>156</td>\n",
       "      <td>85.0</td>\n",
       "      <td>140</td>\n",
       "      <td>90</td>\n",
       "      <td>3</td>\n",
       "      <td>1</td>\n",
       "      <td>0</td>\n",
       "      <td>0</td>\n",
       "      <td>1</td>\n",
       "      <td>1</td>\n",
       "      <td>55</td>\n",
       "      <td>50-60</td>\n",
       "      <td>42.5</td>\n",
       "    </tr>\n",
       "    <tr>\n",
       "      <th>2</th>\n",
       "      <td>1</td>\n",
       "      <td>165</td>\n",
       "      <td>64.0</td>\n",
       "      <td>130</td>\n",
       "      <td>70</td>\n",
       "      <td>3</td>\n",
       "      <td>1</td>\n",
       "      <td>0</td>\n",
       "      <td>0</td>\n",
       "      <td>0</td>\n",
       "      <td>1</td>\n",
       "      <td>52</td>\n",
       "      <td>50-60</td>\n",
       "      <td>32.0</td>\n",
       "    </tr>\n",
       "    <tr>\n",
       "      <th>3</th>\n",
       "      <td>2</td>\n",
       "      <td>169</td>\n",
       "      <td>82.0</td>\n",
       "      <td>150</td>\n",
       "      <td>100</td>\n",
       "      <td>1</td>\n",
       "      <td>1</td>\n",
       "      <td>0</td>\n",
       "      <td>0</td>\n",
       "      <td>1</td>\n",
       "      <td>1</td>\n",
       "      <td>48</td>\n",
       "      <td>40-50</td>\n",
       "      <td>41.0</td>\n",
       "    </tr>\n",
       "    <tr>\n",
       "      <th>4</th>\n",
       "      <td>1</td>\n",
       "      <td>156</td>\n",
       "      <td>56.0</td>\n",
       "      <td>100</td>\n",
       "      <td>60</td>\n",
       "      <td>1</td>\n",
       "      <td>1</td>\n",
       "      <td>0</td>\n",
       "      <td>0</td>\n",
       "      <td>0</td>\n",
       "      <td>0</td>\n",
       "      <td>48</td>\n",
       "      <td>40-50</td>\n",
       "      <td>28.0</td>\n",
       "    </tr>\n",
       "    <tr>\n",
       "      <th>...</th>\n",
       "      <td>...</td>\n",
       "      <td>...</td>\n",
       "      <td>...</td>\n",
       "      <td>...</td>\n",
       "      <td>...</td>\n",
       "      <td>...</td>\n",
       "      <td>...</td>\n",
       "      <td>...</td>\n",
       "      <td>...</td>\n",
       "      <td>...</td>\n",
       "      <td>...</td>\n",
       "      <td>...</td>\n",
       "      <td>...</td>\n",
       "      <td>...</td>\n",
       "    </tr>\n",
       "    <tr>\n",
       "      <th>69995</th>\n",
       "      <td>2</td>\n",
       "      <td>168</td>\n",
       "      <td>76.0</td>\n",
       "      <td>120</td>\n",
       "      <td>80</td>\n",
       "      <td>1</td>\n",
       "      <td>1</td>\n",
       "      <td>1</td>\n",
       "      <td>0</td>\n",
       "      <td>1</td>\n",
       "      <td>0</td>\n",
       "      <td>53</td>\n",
       "      <td>50-60</td>\n",
       "      <td>38.0</td>\n",
       "    </tr>\n",
       "    <tr>\n",
       "      <th>69996</th>\n",
       "      <td>1</td>\n",
       "      <td>158</td>\n",
       "      <td>126.0</td>\n",
       "      <td>140</td>\n",
       "      <td>90</td>\n",
       "      <td>2</td>\n",
       "      <td>2</td>\n",
       "      <td>0</td>\n",
       "      <td>0</td>\n",
       "      <td>1</td>\n",
       "      <td>1</td>\n",
       "      <td>62</td>\n",
       "      <td>&gt;60</td>\n",
       "      <td>63.0</td>\n",
       "    </tr>\n",
       "    <tr>\n",
       "      <th>69997</th>\n",
       "      <td>2</td>\n",
       "      <td>183</td>\n",
       "      <td>105.0</td>\n",
       "      <td>180</td>\n",
       "      <td>90</td>\n",
       "      <td>3</td>\n",
       "      <td>1</td>\n",
       "      <td>0</td>\n",
       "      <td>1</td>\n",
       "      <td>0</td>\n",
       "      <td>1</td>\n",
       "      <td>52</td>\n",
       "      <td>50-60</td>\n",
       "      <td>52.5</td>\n",
       "    </tr>\n",
       "    <tr>\n",
       "      <th>69998</th>\n",
       "      <td>1</td>\n",
       "      <td>163</td>\n",
       "      <td>72.0</td>\n",
       "      <td>135</td>\n",
       "      <td>80</td>\n",
       "      <td>1</td>\n",
       "      <td>2</td>\n",
       "      <td>0</td>\n",
       "      <td>0</td>\n",
       "      <td>0</td>\n",
       "      <td>1</td>\n",
       "      <td>61</td>\n",
       "      <td>&gt;60</td>\n",
       "      <td>36.0</td>\n",
       "    </tr>\n",
       "    <tr>\n",
       "      <th>69999</th>\n",
       "      <td>1</td>\n",
       "      <td>170</td>\n",
       "      <td>72.0</td>\n",
       "      <td>120</td>\n",
       "      <td>80</td>\n",
       "      <td>2</td>\n",
       "      <td>1</td>\n",
       "      <td>0</td>\n",
       "      <td>0</td>\n",
       "      <td>1</td>\n",
       "      <td>0</td>\n",
       "      <td>56</td>\n",
       "      <td>50-60</td>\n",
       "      <td>36.0</td>\n",
       "    </tr>\n",
       "  </tbody>\n",
       "</table>\n",
       "<p>68523 rows × 14 columns</p>\n",
       "</div>"
      ],
      "text/plain": [
       "       gender  height  weight  ap_hi  ap_lo  cholesterol  gluc  smoke  alco  \\\n",
       "0           2     168    62.0    110     80            1     1      0     0   \n",
       "1           1     156    85.0    140     90            3     1      0     0   \n",
       "2           1     165    64.0    130     70            3     1      0     0   \n",
       "3           2     169    82.0    150    100            1     1      0     0   \n",
       "4           1     156    56.0    100     60            1     1      0     0   \n",
       "...       ...     ...     ...    ...    ...          ...   ...    ...   ...   \n",
       "69995       2     168    76.0    120     80            1     1      1     0   \n",
       "69996       1     158   126.0    140     90            2     2      0     0   \n",
       "69997       2     183   105.0    180     90            3     1      0     1   \n",
       "69998       1     163    72.0    135     80            1     2      0     0   \n",
       "69999       1     170    72.0    120     80            2     1      0     0   \n",
       "\n",
       "       active  cardio  age_years age_in_groups   BMI  \n",
       "0           1       0         50         40-50  31.0  \n",
       "1           1       1         55         50-60  42.5  \n",
       "2           0       1         52         50-60  32.0  \n",
       "3           1       1         48         40-50  41.0  \n",
       "4           0       0         48         40-50  28.0  \n",
       "...       ...     ...        ...           ...   ...  \n",
       "69995       1       0         53         50-60  38.0  \n",
       "69996       1       1         62           >60  63.0  \n",
       "69997       0       1         52         50-60  52.5  \n",
       "69998       0       1         61           >60  36.0  \n",
       "69999       1       0         56         50-60  36.0  \n",
       "\n",
       "[68523 rows x 14 columns]"
      ]
     },
     "execution_count": 17,
     "metadata": {},
     "output_type": "execute_result"
    }
   ],
   "source": [
    "df2"
   ]
  },
  {
   "cell_type": "code",
   "execution_count": 20,
   "metadata": {},
   "outputs": [],
   "source": [
    "df2.to_csv(r'CVD.csv', index = False)"
   ]
  },
  {
   "cell_type": "markdown",
   "metadata": {},
   "source": [
    "### Logistic Regression Modeling"
   ]
  },
  {
   "cell_type": "code",
   "execution_count": null,
   "metadata": {},
   "outputs": [],
   "source": [
    "#separating data into two parts X (features) and Y (target)\n",
    "features = [\"gender\", \"height\", \"weight\", \"ap_hi\", \"ap_lo\", \"cholesterol\", \"gluc\", \"smoke\", \"alco\", \"active\", \"age_years\", \"BMI\"]\n",
    "# Separating out the features\n",
    "X = df2.loc[:, features].values\n",
    "\n",
    "#Separating out the target\n",
    "Y = df.loc[:, ['cardio']].values.ravel()\n",
    "Y.shape"
   ]
  }
 ],
 "metadata": {
  "kernelspec": {
   "display_name": "Python 3",
   "language": "python",
   "name": "python3"
  },
  "language_info": {
   "codemirror_mode": {
    "name": "ipython",
    "version": 3
   },
   "file_extension": ".py",
   "mimetype": "text/x-python",
   "name": "python",
   "nbconvert_exporter": "python",
   "pygments_lexer": "ipython3",
   "version": "3.7.6"
  }
 },
 "nbformat": 4,
 "nbformat_minor": 4
}
